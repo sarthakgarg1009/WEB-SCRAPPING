{
 "cells": [
  {
   "cell_type": "code",
   "execution_count": 1,
   "metadata": {},
   "outputs": [],
   "source": [
    "# Currently supported WebDriver implementations are Firefox, Chrome, Ie and Remote\n",
    "from selenium import webdriver"
   ]
  },
  {
   "cell_type": "code",
   "execution_count": 2,
   "metadata": {},
   "outputs": [],
   "source": [
    "# Interacting with the RETURN KEY\n",
    "from selenium.webdriver.common.keys import Keys\n",
    " \n",
    "import pandas as pd"
   ]
  },
  {
   "cell_type": "code",
   "execution_count": 24,
   "metadata": {},
   "outputs": [
    {
     "name": "stdout",
     "output_type": "stream",
     "text": [
      "ENTER NAME OF THE BOYdfds\n"
     ]
    },
    {
     "ename": "AttributeError",
     "evalue": "'NoneType' object has no attribute 'send_keys'",
     "output_type": "error",
     "traceback": [
      "\u001b[1;31m---------------------------------------------------------------------------\u001b[0m",
      "\u001b[1;31mAttributeError\u001b[0m                            Traceback (most recent call last)",
      "\u001b[1;32m<ipython-input-24-8e6e2bbb9f7e>\u001b[0m in \u001b[0;36m<module>\u001b[1;34m\u001b[0m\n\u001b[0;32m     21\u001b[0m \u001b[1;33m\u001b[0m\u001b[0m\n\u001b[0;32m     22\u001b[0m \u001b[1;31m#driver.find_element_by_xpath('//a[@title=ui-state-default ui-state-active]').click()\u001b[0m\u001b[1;33m\u001b[0m\u001b[1;33m\u001b[0m\u001b[1;33m\u001b[0m\u001b[0m\n\u001b[1;32m---> 23\u001b[1;33m \u001b[0mboy_dob\u001b[0m\u001b[1;33m.\u001b[0m\u001b[0msend_keys\u001b[0m\u001b[1;33m(\u001b[0m\u001b[1;34m'10/09/1999'\u001b[0m\u001b[1;33m)\u001b[0m\u001b[1;33m\u001b[0m\u001b[1;33m\u001b[0m\u001b[0m\n\u001b[0m\u001b[0;32m     24\u001b[0m \u001b[1;33m\u001b[0m\u001b[0m\n\u001b[0;32m     25\u001b[0m \u001b[1;33m\u001b[0m\u001b[0m\n",
      "\u001b[1;31mAttributeError\u001b[0m: 'NoneType' object has no attribute 'send_keys'"
     ]
    }
   ],
   "source": [
    "from selenium.webdriver.common.action_chains import ActionChains\n",
    "\n",
    "import datetime\n",
    "\n",
    "# Creating a web driver chrome instance\n",
    "driver=webdriver.Chrome('D:\\chromedriver.exe')\n",
    "\n",
    "# With the get method we go to the webpage in the url given\n",
    "driver.get('https://www.astroyogi.com/kundli/kundli-matching')\n",
    "\n",
    "# WebDriver let me interact with items in a web page through of their attributtes\n",
    "#BOY NAME\n",
    "boy_name = driver.find_element_by_id('Kund_M_Name')\n",
    "boy_name.send_keys(input(\"ENTER NAME OF THE BOY\"))\n",
    "boy_name.send_keys(Keys.RETURN)\n",
    "\n",
    "#BOY DATE \n",
    "boy_dob = driver.find_element_by_xpath(\"//input[@id='Kund_M_Dateofbirth']\").click()\n",
    "\n",
    "#boy_dob.switch_to.window('ui-datepicker-div')\n",
    "\n",
    "#driver.find_element_by_xpath('//a[@title=ui-state-default ui-state-active]').click()\n",
    "boy_dob.send_keys('10/09/1999')\n",
    "\n",
    "\n",
    "#BOY TIME\n",
    "boy_time = driver.find_element_by_class_name('form-control topBtm5 valid').click()\n",
    "\n",
    "a = datetime.datetime.strptime(raw_input('specify time in HHMM format: '), \"%H%M\")\n",
    "\n",
    "boy_time.send_keys(a.strftime(\"%H%M\"))\n",
    "boy_time.send_keys(keys.RETURN)\n",
    "\n",
    "\n",
    "#BOY BIRTH PLACE\n",
    "boy_place = driver.find_element_by_class_name('form-control topBtm5 valid')\n",
    "boy_place.send_keys(input(\"ENTER THE PLACE OF BIRTH OF A BOY\"))\n",
    "boy_place.send_keys(keys.RETURN)\n",
    "\n",
    "#GIRL NAME\n",
    "girl_name = driver.find_element_by_id('Kund_F_Name')\n",
    "girl_name.send_keys(raw_input('ENETR THE GIRLS NAME'))\n",
    "girl-name.send_keys(keys.RETURN)\n",
    "\n",
    "#GIRL BIRTH DATE\n",
    "girl_dob = driver.find_element_by_class_name('form-control topBtm5 hasDatepicker')\n",
    "birthday = input(\"Enter your date of birth: \")\n",
    "\n",
    "day = birthday.find(\"/\")\n",
    "month = birthday.find(\"/\")\n",
    "year = birthday.rfind(\"/\")\n",
    "\n",
    "girl_dob.send_keys(day,month,year)\n",
    "girl_dob.send_keys(keys.RETURN)\n",
    "\n",
    "#GIRL TIME\n",
    "girl_time = driver.find_element_by_id('Kund_F_BirthTime')\n",
    "\n",
    "a1 = datetime.datetime.strptime(raw_input('specify time in HHMM format: '), \"%H%M\")\n",
    "\n",
    "girl_time.send_keys(a1.strftime(\"%H%M\"))\n",
    "girl_time.send_keys(keys.RETURN)\n",
    "\n",
    "#GIRL PLACE \n",
    "girl_place = driver.find_element_by_id('Kund_F_BirthPlace')\n",
    "girl_place.send_keys(raw_input(\"ENTER THE PLACE OF BORN OF THE GIRL\"))\n",
    "girl_place.send_keys(Kyes.RETURN)\n",
    "\n",
    "\n",
    "#MATCH\n",
    "match = driver.find_element_by_xpath('//div[@title=\"col-md-12\"]')\n",
    "\n",
    "num = len(match)\n",
    "\n",
    "for i in range(num):\n",
    "    print (match[i])"
   ]
  },
  {
   "cell_type": "code",
   "execution_count": null,
   "metadata": {},
   "outputs": [],
   "source": []
  },
  {
   "cell_type": "code",
   "execution_count": null,
   "metadata": {},
   "outputs": [],
   "source": []
  },
  {
   "cell_type": "code",
   "execution_count": null,
   "metadata": {},
   "outputs": [],
   "source": []
  }
 ],
 "metadata": {
  "kernelspec": {
   "display_name": "Python 3",
   "language": "python",
   "name": "python3"
  },
  "language_info": {
   "codemirror_mode": {
    "name": "ipython",
    "version": 3
   },
   "file_extension": ".py",
   "mimetype": "text/x-python",
   "name": "python",
   "nbconvert_exporter": "python",
   "pygments_lexer": "ipython3",
   "version": "3.7.4"
  }
 },
 "nbformat": 4,
 "nbformat_minor": 2
}
